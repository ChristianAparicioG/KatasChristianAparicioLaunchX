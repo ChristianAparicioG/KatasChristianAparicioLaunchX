{
 "cells": [
  {
   "cell_type": "code",
   "execution_count": 25,
   "metadata": {},
   "outputs": [
    {
     "name": "stdout",
     "output_type": "stream",
     "text": [
      "El resultado es: 25 minutos con 25 segundos\n"
     ]
    }
   ],
   "source": [
    "seconds = 1525\n",
    "display_minutes = seconds // 60\n",
    "display_seconds = seconds % 60\n",
    "\n",
    "phrase = f\"El resultado es: {display_minutes} minutos con {display_seconds} segundos\"\n",
    "\n",
    "print(phrase)\n"
   ]
  },
  {
   "cell_type": "code",
   "execution_count": 29,
   "metadata": {},
   "outputs": [
    {
     "name": "stdout",
     "output_type": "stream",
     "text": [
      "215.3\n"
     ]
    }
   ],
   "source": [
    "demo_float = float('215.3')\n",
    "print(demo_float)"
   ]
  },
  {
   "cell_type": "code",
   "execution_count": 28,
   "metadata": {},
   "outputs": [
    {
     "name": "stdout",
     "output_type": "stream",
     "text": [
      "13\n",
      "12\n"
     ]
    }
   ],
   "source": [
    "from math import ceil, floor\n",
    "\n",
    "round_up = ceil(12.5)\n",
    "print(round_up)\n",
    "\n",
    "round_down = floor(12.5)\n",
    "print(round_down)"
   ]
  },
  {
   "cell_type": "markdown",
   "metadata": {},
   "source": [
    "<h2>Ejercicio 1"
   ]
  },
  {
   "cell_type": "code",
   "execution_count": 31,
   "metadata": {},
   "outputs": [
    {
     "name": "stdout",
     "output_type": "stream",
     "text": [
      "La distancia entre los planetas es de 628949330 km o 390577534 millas\n"
     ]
    }
   ],
   "source": [
    "dist1 = 149597870\n",
    "dist2 = 778547200\n",
    "\n",
    "dist_entre_planetas = abs(dist1-dist2)\n",
    "dist_millas = dist_entre_planetas*0.621\n",
    "\n",
    "sentence = f\"La distancia entre los planetas es de {dist_entre_planetas} km o {round(dist_millas)} millas\"\n",
    "print(sentence)"
   ]
  },
  {
   "cell_type": "markdown",
   "metadata": {},
   "source": [
    "<h2>Ejercicio 2"
   ]
  },
  {
   "cell_type": "code",
   "execution_count": 43,
   "metadata": {},
   "outputs": [],
   "source": [
    "dist_planet1 = input(\"Introduce la distancia del primer planeta al Sol en km\")\n",
    "dist_planet2 = input(\"Introduce la distancia del segundo planeta al Sol en km\")"
   ]
  },
  {
   "cell_type": "code",
   "execution_count": 44,
   "metadata": {},
   "outputs": [],
   "source": [
    "dist_planet1 = int(dist_planet1)\n",
    "dist_planet2 = int(dist_planet2)"
   ]
  },
  {
   "cell_type": "code",
   "execution_count": 45,
   "metadata": {},
   "outputs": [
    {
     "name": "stdout",
     "output_type": "stream",
     "text": [
      "La distancia entre los planetas es de 340 km o 211 millas\n"
     ]
    }
   ],
   "source": [
    "dist_entre_planetas = abs(dist_planet1-dist_planet2)\n",
    "dist_millas = dist_entre_planetas*0.621\n",
    "\n",
    "print(\"La distancia entre los planetas es de\", (dist_entre_planetas), \"km o\", (round(dist_millas)), \"millas\")"
   ]
  }
 ],
 "metadata": {
  "interpreter": {
   "hash": "0adcc2737ebf6a4a119f135174df96668767fca1ef1112612db5ecadf2b6d608"
  },
  "kernelspec": {
   "display_name": "Python 3.8.7 64-bit",
   "language": "python",
   "name": "python3"
  },
  "language_info": {
   "codemirror_mode": {
    "name": "ipython",
    "version": 3
   },
   "file_extension": ".py",
   "mimetype": "text/x-python",
   "name": "python",
   "nbconvert_exporter": "python",
   "pygments_lexer": "ipython3",
   "version": "3.8.7"
  },
  "orig_nbformat": 4
 },
 "nbformat": 4,
 "nbformat_minor": 2
}
