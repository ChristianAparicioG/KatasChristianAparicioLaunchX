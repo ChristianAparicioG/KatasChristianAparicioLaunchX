{
 "cells": [
  {
   "cell_type": "code",
   "execution_count": 5,
   "metadata": {},
   "outputs": [
    {
     "name": "stdout",
     "output_type": "stream",
     "text": [
      "85\n"
     ]
    }
   ],
   "source": [
    "a = 38\n",
    "b =85\n",
    "\n",
    "if a >= b:\n",
    "    print(a)\n",
    "else:\n",
    "    print(b)"
   ]
  },
  {
   "cell_type": "code",
   "execution_count": 7,
   "metadata": {},
   "outputs": [
    {
     "name": "stdout",
     "output_type": "stream",
     "text": [
      "A es mayor que B\n"
     ]
    }
   ],
   "source": [
    "a = 72\n",
    "b = 44\n",
    "if a <= b:\n",
    "    print(\"A es menor que B\")\n",
    "elif a == b:\n",
    "    print(\"A es igual a B\")\n",
    "else:\n",
    "    print(\"A es mayor que B\")"
   ]
  },
  {
   "cell_type": "code",
   "execution_count": 9,
   "metadata": {},
   "outputs": [
    {
     "name": "stdout",
     "output_type": "stream",
     "text": [
      "a es mayor que b y menor que c\n"
     ]
    }
   ],
   "source": [
    "a = 32\n",
    "b = 25\n",
    "c = 27\n",
    "if a > b:\n",
    "    if b > c:\n",
    "        print (\"a es mayor que b y b es mayor que c\")\n",
    "    else: \n",
    "        print (\"a es mayor que b y menor que c\")\n",
    "elif a == b:\n",
    "    print (\"a es igual que b\")\n",
    "else:\n",
    "    print (\"a es menor que b\")"
   ]
  },
  {
   "cell_type": "code",
   "execution_count": 10,
   "metadata": {},
   "outputs": [
    {
     "name": "stdout",
     "output_type": "stream",
     "text": [
      "57\n"
     ]
    }
   ],
   "source": [
    "a = 23\n",
    "b = 34\n",
    "if a == 34 or b == 34:\n",
    "    print(a + b)"
   ]
  },
  {
   "cell_type": "markdown",
   "metadata": {},
   "source": [
    "<h3>Ejercicio 1"
   ]
  },
  {
   "cell_type": "code",
   "execution_count": 12,
   "metadata": {},
   "outputs": [
    {
     "name": "stdout",
     "output_type": "stream",
     "text": [
      "ADVERTENCIA, COLISION POSIBLE CON ASTEROIDE\n"
     ]
    }
   ],
   "source": [
    "ast_vel = 49\n",
    "if ast_vel > 25:\n",
    "    print(\"ADVERTENCIA, COLISION POSIBLE CON ASTEROIDE\")\n",
    "else: \n",
    "    print(\"No hay riesgo de colisión\")"
   ]
  },
  {
   "cell_type": "markdown",
   "metadata": {},
   "source": [
    "<h3>Ejercicio 2"
   ]
  },
  {
   "cell_type": "code",
   "execution_count": null,
   "metadata": {},
   "outputs": [],
   "source": [
    "ast_vel = 19\n",
    "if ast_vel > 20:\n",
    "    print(\"¡Busca un destello en el cielo, puede que un asteriode esté cerca!\")\n",
    "elif == 20:\n",
    "    print(\"¡Mira hacia arriba! Puede que veas un asteroide en el cielo\")\n",
    "else:\n",
    "    print(\"No hay señales de algo en el cielo\")"
   ]
  },
  {
   "cell_type": "markdown",
   "metadata": {},
   "source": [
    "<h3>Ejercicio 3"
   ]
  },
  {
   "cell_type": "code",
   "execution_count": 16,
   "metadata": {},
   "outputs": [
    {
     "name": "stdout",
     "output_type": "stream",
     "text": [
      "No hay señales en el cielo\n"
     ]
    }
   ],
   "source": [
    "ast_vel = 12\n",
    "ast_dim = 8\n",
    "if ast_vel > 25 and ast_dim >= 25:\n",
    "    print(\"¡Ciudado, un asteroide peligroso se aproxima rápidamente a la Tierra!\")\n",
    "elif ast_vel > 25 and ast_dim < 25:\n",
    "    print(\"¡Puedes ver un destello de luz en el cielo!\")\n",
    "elif ast_vel < 25 and ast_dim > 25:\n",
    "    print(\"Hay un asteroide rondando cerca, checa continuamente su velocidad\")\n",
    "else:\n",
    "    print(\"No hay señales en el cielo\")"
   ]
  }
 ],
 "metadata": {
  "interpreter": {
   "hash": "0adcc2737ebf6a4a119f135174df96668767fca1ef1112612db5ecadf2b6d608"
  },
  "kernelspec": {
   "display_name": "Python 3.8.7 64-bit",
   "language": "python",
   "name": "python3"
  },
  "language_info": {
   "codemirror_mode": {
    "name": "ipython",
    "version": 3
   },
   "file_extension": ".py",
   "mimetype": "text/x-python",
   "name": "python",
   "nbconvert_exporter": "python",
   "pygments_lexer": "ipython3",
   "version": "3.8.7"
  },
  "orig_nbformat": 4
 },
 "nbformat": 4,
 "nbformat_minor": 2
}
