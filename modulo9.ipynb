{
 "cells": [
  {
   "cell_type": "code",
   "execution_count": 3,
   "metadata": {},
   "outputs": [],
   "source": [
    "def distance_from_earth(destination):\n",
    "    if destination == 'Moon':\n",
    "        return '238,855'\n",
    "    else:\n",
    "        return 'Unable to compute to that destination'"
   ]
  },
  {
   "cell_type": "code",
   "execution_count": 6,
   "metadata": {},
   "outputs": [
    {
     "data": {
      "text/plain": [
       "'Unable to compute to that destination'"
      ]
     },
     "execution_count": 6,
     "metadata": {},
     "output_type": "execute_result"
    }
   ],
   "source": [
    "distance_from_earth(\"Mars\")"
   ]
  },
  {
   "cell_type": "code",
   "execution_count": 7,
   "metadata": {},
   "outputs": [],
   "source": [
    "def days_to_complete(distance, speed):\n",
    "    hours = distance/speed\n",
    "    return hours/24"
   ]
  },
  {
   "cell_type": "code",
   "execution_count": 8,
   "metadata": {},
   "outputs": [
    {
     "data": {
      "text/plain": [
       "82.93576388888889"
      ]
     },
     "execution_count": 8,
     "metadata": {},
     "output_type": "execute_result"
    }
   ],
   "source": [
    "days_to_complete(238855,120)"
   ]
  },
  {
   "cell_type": "code",
   "execution_count": 11,
   "metadata": {},
   "outputs": [],
   "source": [
    "from datetime import timedelta, datetime\n",
    "\n",
    "def arrival_time(hours=36):\n",
    "    now = datetime.now()\n",
    "    arrival = now + timedelta(hours=hours)\n",
    "    return arrival.strftime('Arrival: %A %H:%M')"
   ]
  },
  {
   "cell_type": "code",
   "execution_count": 13,
   "metadata": {},
   "outputs": [
    {
     "data": {
      "text/plain": [
       "'Arrival: Monday 11:18'"
      ]
     },
     "execution_count": 13,
     "metadata": {},
     "output_type": "execute_result"
    }
   ],
   "source": [
    "arrival_time(0)"
   ]
  },
  {
   "cell_type": "code",
   "execution_count": 14,
   "metadata": {},
   "outputs": [],
   "source": [
    "from datetime import timedelta, datetime\n",
    "\n",
    "def arrival_time(destination, hours=51):\n",
    "    now = datetime.now()\n",
    "    arrival = now + timedelta(hours=hours)\n",
    "    return arrival.strftime(f'{destination} Arrival: %A %H:%M')"
   ]
  },
  {
   "cell_type": "code",
   "execution_count": 16,
   "metadata": {},
   "outputs": [
    {
     "data": {
      "text/plain": [
       "'Earth Arrival: Monday 13:53'"
      ]
     },
     "execution_count": 16,
     "metadata": {},
     "output_type": "execute_result"
    }
   ],
   "source": [
    "arrival_time(\"Earth\", 2.5)"
   ]
  },
  {
   "cell_type": "markdown",
   "metadata": {},
   "source": [
    "<h2> Ejercicio 1"
   ]
  },
  {
   "cell_type": "code",
   "execution_count": 29,
   "metadata": {},
   "outputs": [],
   "source": [
    "def fuel(t1, t2, t3):\n",
    "    average = (t1 + t2 + t3)/3\n",
    "    return f\"Reporte de combustible: \\n Promedio total: {round(average)}% \\n Tanque 1: {t1}% \\n Tanque 2: {t2}% \\n Tanque 3: {t3}% \""
   ]
  },
  {
   "cell_type": "code",
   "execution_count": 31,
   "metadata": {},
   "outputs": [
    {
     "name": "stdout",
     "output_type": "stream",
     "text": [
      "Reporte de combustible: \n",
      " Promedio total: 40% \n",
      " Tanque 1: 35% \n",
      " Tanque 2: 60% \n",
      " Tanque 3: 24% \n"
     ]
    }
   ],
   "source": [
    "print(fuel(35,60,24))"
   ]
  },
  {
   "cell_type": "code",
   "execution_count": 33,
   "metadata": {},
   "outputs": [],
   "source": [
    "def promedio(values):\n",
    "    total = sum(values)\n",
    "    items = len(values)\n",
    "    return round(total/items)"
   ]
  },
  {
   "cell_type": "code",
   "execution_count": 37,
   "metadata": {},
   "outputs": [],
   "source": [
    "def fuel(t1, t2, t3):\n",
    "    return f\"Reporte de combustible: \\n Promedio total: {promedio([t1, t2, t3])}% \\n Tanque 1: {t1}% \\n Tanque 2: {t2}% \\n Tanque 3: {t3}% \""
   ]
  },
  {
   "cell_type": "code",
   "execution_count": 39,
   "metadata": {},
   "outputs": [
    {
     "name": "stdout",
     "output_type": "stream",
     "text": [
      "Reporte de combustible: \n",
      " Promedio total: 61% \n",
      " Tanque 1: 57% \n",
      " Tanque 2: 48% \n",
      " Tanque 3: 79% \n"
     ]
    }
   ],
   "source": [
    "print(fuel(57,48,79))"
   ]
  },
  {
   "cell_type": "markdown",
   "metadata": {},
   "source": [
    "<h2> Ejercicio 2"
   ]
  },
  {
   "cell_type": "code",
   "execution_count": 41,
   "metadata": {},
   "outputs": [],
   "source": [
    "def informe( prelanzamiento, tiempo, destino, tanque_int, tanque_ext):\n",
    "    return f\" Misión hacia: {destino} \\n Tiempo estimado de viaje: {prelanzamiento + tiempo} \\n Combustible restante: {tanque_ext + tanque_int}\""
   ]
  },
  {
   "cell_type": "code",
   "execution_count": 47,
   "metadata": {},
   "outputs": [],
   "source": [
    "def informe(destino, *minutos, **reservas_combustible):\n",
    "    return f\" Misión hacia: {destino} \\n Tiempo estimado de viaje: {sum(minutos)} minutos \\n Combustible restante: {sum(reservas_combustible.values())} galones\""
   ]
  },
  {
   "cell_type": "code",
   "execution_count": 48,
   "metadata": {},
   "outputs": [
    {
     "name": "stdout",
     "output_type": "stream",
     "text": [
      " Misión hacia: Moon \n",
      " Tiempo estimado de viaje: 57 minutos \n",
      " Combustible restante: 174 galones\n"
     ]
    }
   ],
   "source": [
    "print(informe(\"Moon\", 25,13,19, tanque1 = 58, tanque2 = 37, tanque3= 79))"
   ]
  },
  {
   "cell_type": "code",
   "execution_count": 53,
   "metadata": {},
   "outputs": [],
   "source": [
    "def informe(destino, *minutos, **reservas_combustible):\n",
    "    report = f\"Misión hacia: {destino} \\nTiempo estimado de viaje: {sum(minutos)} minutos \\nCombustible restante: {sum(reservas_combustible.values())} galones \\n\"\n",
    "    for nombre, galones in reservas_combustible.items():\n",
    "        report += f\"{nombre} --> {galones} restantes \\n\"\n",
    "    return report\n"
   ]
  },
  {
   "cell_type": "code",
   "execution_count": 54,
   "metadata": {},
   "outputs": [
    {
     "name": "stdout",
     "output_type": "stream",
     "text": [
      "Misión hacia: Moon \n",
      "Tiempo estimado de viaje: 57 minutos \n",
      "Combustible restante: 174 galones \n",
      "Tanque_principal --> 58 restantes \n",
      "Tanque_trasero --> 37 restantes \n",
      "tanque_externo --> 79 restantes \n",
      "\n"
     ]
    }
   ],
   "source": [
    "print(informe(\"Moon\", 25,13,19, Tanque_principal = 58, Tanque_trasero = 37, tanque_externo = 79))"
   ]
  }
 ],
 "metadata": {
  "interpreter": {
   "hash": "0adcc2737ebf6a4a119f135174df96668767fca1ef1112612db5ecadf2b6d608"
  },
  "kernelspec": {
   "display_name": "Python 3.8.7 64-bit",
   "language": "python",
   "name": "python3"
  },
  "language_info": {
   "codemirror_mode": {
    "name": "ipython",
    "version": 3
   },
   "file_extension": ".py",
   "mimetype": "text/x-python",
   "name": "python",
   "nbconvert_exporter": "python",
   "pygments_lexer": "ipython3",
   "version": "3.8.7"
  },
  "orig_nbformat": 4
 },
 "nbformat": 4,
 "nbformat_minor": 2
}
